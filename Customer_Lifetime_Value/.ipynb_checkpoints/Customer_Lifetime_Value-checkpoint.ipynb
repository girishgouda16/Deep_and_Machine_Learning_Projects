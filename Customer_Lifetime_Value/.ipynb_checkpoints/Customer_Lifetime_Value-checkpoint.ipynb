{
 "cells": [
  {
   "cell_type": "markdown",
   "metadata": {},
   "source": [
    "# Calculate Customer Lifetime Value"
   ]
  },
  {
   "cell_type": "code",
   "execution_count": null,
   "metadata": {},
   "outputs": [],
   "source": [
    "#Import necessary libraries\n",
    "import pandas as pd\n",
    "import matplotlib as plt\n",
    "\n",
    "#Import Data\n",
    "tx_data=pd.read_excel(\"RetailData.xlsx\")\n",
    "tx_data.head()"
   ]
  },
  {
   "cell_type": "code",
   "execution_count": null,
   "metadata": {},
   "outputs": [],
   "source": [
    "#Check the shape (number of columns and rows) in the dataset\n",
    "tx_data.shape"
   ]
  },
  {
   "cell_type": "code",
   "execution_count": null,
   "metadata": {},
   "outputs": [],
   "source": [
    "#Find out missing values\n",
    "tx_data.isnull().sum(axis=0)"
   ]
  },
  {
   "cell_type": "code",
   "execution_count": null,
   "metadata": {},
   "outputs": [],
   "source": [
    "#Remove time from date\n",
    "tx_data['InvoiceDate'] = pd.to_datetime(tx_data['InvoiceDate'], format=\"%m/%d/%Y %H:%M\").dt.date\n",
    "\n",
    "#There are 135,080 missing values in the CustomerID column, and since our analysis is based on customers, \n",
    "#we will remove these missing values.\n",
    "tx_data = tx_data[pd.notnull(tx_data['CustomerID'])]\n",
    "\n",
    "#Keep records with non negative quantity\n",
    "tx_data = tx_data[(tx_data['Quantity']>0)]\n",
    "\n",
    "#Add a new column depicting total sales\n",
    "tx_data['Total_Sales'] = tx_data['Quantity'] * tx_data['UnitPrice']\n",
    "necessary_cols = ['CustomerID', 'InvoiceDate', 'Total_Sales']\n",
    "tx_data = tx_data[necessary_cols]\n",
    "tx_data.head()"
   ]
  },
  {
   "cell_type": "code",
   "execution_count": null,
   "metadata": {},
   "outputs": [],
   "source": [
    "#Print records pertaining unique Customer IDs\n",
    "print(tx_data['CustomerID'].nunique())"
   ]
  },
  {
   "cell_type": "code",
   "execution_count": null,
   "metadata": {},
   "outputs": [],
   "source": [
    "#Check the Last order date\n",
    "last_order_date = tx_data['InvoiceDate'].max()\n",
    "print(last_order_date)\n",
    "print(\"--------------------------------------\")\n",
    "print(tx_data[(tx_data['CustomerID']==12346)])\n",
    "print(\"--------------------------------------\")\n",
    "print(tx_data[(tx_data['CustomerID']==12347)].tail())\n",
    "print(\"--------------------------------------\")\n",
    "print(tx_data[(tx_data['CustomerID']==12347)]['InvoiceDate'].max(), tx_data[(tx_data['CustomerID']==12347)]['InvoiceDate'].min())\n"
   ]
  },
  {
   "cell_type": "code",
   "execution_count": null,
   "metadata": {},
   "outputs": [],
   "source": [
    "from datetime import datetime\n",
    "number_of_purchases = tx_data[(tx_data['CustomerID']==12347)]['InvoiceDate'].nunique()\n",
    "first_time_purchase = tx_data[(tx_data['CustomerID']==12347)]['InvoiceDate'].min()\n",
    "recent_purchase = tx_data[(tx_data['CustomerID']==12347)]['InvoiceDate'].max()\n",
    "\n",
    "\n",
    "frequency = number_of_purchases-1\n",
    "recency = recent_purchase - first_time_purchase\n",
    "T = last_order_date - first_time_purchase\n",
    "\n",
    "print(\"The R, F, T\")\n",
    "print('---------')\n",
    "print(\"Frequency ->\",frequency)\n",
    "print(\"Recency ->\", recency)\n",
    "print(\"T(Life Span of the user) ->\", T)"
   ]
  },
  {
   "cell_type": "code",
   "execution_count": null,
   "metadata": {
    "scrolled": true
   },
   "outputs": [],
   "source": [
    "from lifetimes.plotting import *\n",
    "from lifetimes.utils import *\n",
    "#Built-in utility functions from lifetimes package to transform the transactional data (one row per purchase) \n",
    "#into summary data (a frequency, recency, age and monetary).\n",
    "\n",
    "lf_tx_data = summary_data_from_transaction_data(tx_data, 'CustomerID', 'InvoiceDate', monetary_value_col='Total_Sales', observation_period_end='2011-12-9')\n",
    "lf_tx_data.reset_index().head()"
   ]
  },
  {
   "cell_type": "code",
   "execution_count": null,
   "metadata": {},
   "outputs": [],
   "source": [
    "%matplotlib inline\n",
    "#Create histogram to find out how many customers purchased item only once.\n",
    "lf_tx_data['frequency'].plot(kind='hist', bins=50)\n",
    "print(lf_tx_data['frequency'].describe())\n",
    "print(\"---------------------------------------\")\n",
    "one_time_buyers = round(sum(lf_tx_data['frequency'] == 0)/float(len(lf_tx_data))*(100),2)\n",
    "print(\"Percentage of customers purchase the item only once:\", one_time_buyers ,\"%\")"
   ]
  },
  {
   "cell_type": "code",
   "execution_count": null,
   "metadata": {},
   "outputs": [],
   "source": [
    "#Frequency/Recency Analysis Using the BG/NBD Model\n",
    "from lifetimes import BetaGeoFitter\n",
    "bgf = BetaGeoFitter(penalizer_coef=0.0)\n",
    "bgf.fit(lf_tx_data['frequency'], lf_tx_data['recency'], lf_tx_data['T'])\n",
    "print(bgf)"
   ]
  },
  {
   "cell_type": "code",
   "execution_count": null,
   "metadata": {},
   "outputs": [],
   "source": [
    "bgf.summary"
   ]
  },
  {
   "cell_type": "code",
   "execution_count": null,
   "metadata": {},
   "outputs": [],
   "source": [
    "#Visualizing our frequency/recency matrix\n",
    "%matplotlib inline\n",
    "import matplotlib.pyplot as plt\n",
    "from lifetimes.plotting import plot_frequency_recency_matrix\n",
    "fig = plt.figure(figsize=(12,8))\n",
    "plot_frequency_recency_matrix(bgf)"
   ]
  },
  {
   "cell_type": "code",
   "execution_count": null,
   "metadata": {},
   "outputs": [],
   "source": [
    "#predict if the customers are surely alive:\n",
    "from lifetimes.plotting import plot_probability_alive_matrix\n",
    "fig = plt.figure(figsize=(12,8))\n",
    "plot_probability_alive_matrix(bgf)"
   ]
  },
  {
   "cell_type": "code",
   "execution_count": null,
   "metadata": {},
   "outputs": [],
   "source": [
    "#Predict future transaction in next 10 days i.e.top 10 customers that the model expects them to make purchases \n",
    "#in the next 10 days, based on historical data\n",
    "\n",
    "t = 10\n",
    "lf_tx_data['pred_num_txn'] = round(bgf.conditional_expected_number_of_purchases_up_to_time(t, lf_tx_data['frequency'], lf_tx_data['recency'], lf_tx_data['T']),2)\n",
    "lf_tx_data.sort_values(by='pred_num_txn', ascending=False).head(10).reset_index()"
   ]
  },
  {
   "cell_type": "code",
   "execution_count": null,
   "metadata": {},
   "outputs": [],
   "source": [
    "#Assessing model fit\n",
    "from lifetimes.plotting import plot_period_transactions\n",
    "plot_period_transactions(bgf)"
   ]
  },
  {
   "cell_type": "code",
   "execution_count": null,
   "metadata": {},
   "outputs": [],
   "source": [
    "#Customer's future transaction prediction for next 10 days\n",
    "\n",
    "t = 10\n",
    "individual = lf_tx_data.loc[14911]\n",
    "bgf.predict(t, individual['frequency'], individual['recency'], individual['T'])\n",
    "\n",
    "#OBSERVATION: Our model predicts that customer 14911’s future transaction is appx 3 in 10 days."
   ]
  },
  {
   "cell_type": "code",
   "execution_count": null,
   "metadata": {},
   "outputs": [],
   "source": [
    "#Check if there is correlation between monetary value and frequency in order to use gamma gamma model for CLV calculation.\n",
    "lf_tx_data[['monetary_value', 'frequency']].corr()"
   ]
  },
  {
   "cell_type": "code",
   "execution_count": null,
   "metadata": {},
   "outputs": [],
   "source": [
    "#Shortlist customers who had at least one repeat purchase with the company. \n",
    "shortlisted_customers = lf_tx_data[lf_tx_data['frequency']>0]\n",
    "print(shortlisted_customers.head().reset_index())\n",
    "print(\"-----------------------------------------\")\n",
    "print(\"The Number of Returning Customers are: \",len(shortlisted_customers))"
   ]
  },
  {
   "cell_type": "code",
   "execution_count": null,
   "metadata": {},
   "outputs": [],
   "source": [
    "#Train gamma-gamma model by taking into account the monetary_value.\n",
    "from lifetimes import GammaGammaFitter\n",
    "ggf = GammaGammaFitter(penalizer_coef = 0)\n",
    "ggf.fit(shortlisted_customers['frequency'],\n",
    "        shortlisted_customers['monetary_value'])\n",
    "print(ggf)"
   ]
  },
  {
   "cell_type": "code",
   "execution_count": null,
   "metadata": {},
   "outputs": [],
   "source": [
    "#After applying Gamma-Gamma model, now we can estimate average transaction value for each customer. \n",
    "print(ggf.conditional_expected_average_profit(\n",
    "        lf_tx_data['frequency'],\n",
    "        lf_tx_data['monetary_value']\n",
    "    ).head(10))"
   ]
  },
  {
   "cell_type": "code",
   "execution_count": null,
   "metadata": {},
   "outputs": [],
   "source": [
    "lf_tx_data['pred_txn_value'] = round(ggf.conditional_expected_average_profit(\n",
    "        lf_tx_data['frequency'],\n",
    "        lf_tx_data['monetary_value']), 2)\n",
    "lf_tx_data.reset_index().head()"
   ]
  },
  {
   "cell_type": "code",
   "execution_count": null,
   "metadata": {},
   "outputs": [],
   "source": [
    "#Calculate Customer Lifetime Value\n",
    "lf_tx_data['CLV'] = round(ggf.customer_lifetime_value(\n",
    "    bgf, #the model to use to predict the number of future transactions\n",
    "    lf_tx_data['frequency'],\n",
    "    lf_tx_data['recency'],\n",
    "    lf_tx_data['T'],\n",
    "    lf_tx_data['monetary_value'],\n",
    "    time=12, # months\n",
    "    discount_rate=0.01 # monthly discount rate ~ 12.7% annually\n",
    "), 2)\n",
    "\n",
    "#lf_tx_data.drop(lf_tx_data.iloc[:, 0:6], inplace=True, axis=1)\n",
    "\n",
    "lf_tx_data.sort_values(by='CLV', ascending=False).head(5).reset_index()"
   ]
  },
  {
   "cell_type": "code",
   "execution_count": null,
   "metadata": {},
   "outputs": [],
   "source": [
    "#12744.0\t5.0\t267.0\t318.0\t3845.244000\t0.15\t3197.54\t16234.77\n",
    "temp = tx_data[tx_data['CustomerID'] == 12744.0].groupby('InvoiceDate').agg({'Total_Sales':['sum']})"
   ]
  },
  {
   "cell_type": "code",
   "execution_count": null,
   "metadata": {},
   "outputs": [],
   "source": [
    "total = temp[temp.columns.tolist()[0]].sum()"
   ]
  },
  {
   "cell_type": "code",
   "execution_count": null,
   "metadata": {},
   "outputs": [],
   "source": [
    "pred = 3197.54*0.15"
   ]
  },
  {
   "cell_type": "code",
   "execution_count": null,
   "metadata": {},
   "outputs": [],
   "source": [
    "total+pred"
   ]
  },
  {
   "cell_type": "code",
   "execution_count": null,
   "metadata": {},
   "outputs": [],
   "source": []
  }
 ],
 "metadata": {
  "interpreter": {
   "hash": "ed15d5c2103e95064dcfc78c6b57a77520d4c7e5c11463c3da610591e5f89185"
  },
  "kernelspec": {
   "display_name": "py38",
   "language": "python",
   "name": "py38"
  },
  "language_info": {
   "codemirror_mode": {
    "name": "ipython",
    "version": 3
   },
   "file_extension": ".py",
   "mimetype": "text/x-python",
   "name": "python",
   "nbconvert_exporter": "python",
   "pygments_lexer": "ipython3",
   "version": "3.8.13"
  }
 },
 "nbformat": 4,
 "nbformat_minor": 2
}
