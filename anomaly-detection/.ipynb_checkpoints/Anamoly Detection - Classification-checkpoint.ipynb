{
 "cells": [
  {
   "cell_type": "markdown",
   "id": "c66d68e1",
   "metadata": {},
   "source": [
    "### Anamoly Detection"
   ]
  },
  {
   "cell_type": "code",
   "execution_count": 1,
   "id": "a4318356",
   "metadata": {},
   "outputs": [],
   "source": [
    "import pandas as pd\n",
    "import numpy as np\n",
    "import matplotlib.pyplot as plt\n",
    "import seaborn as sns\n",
    "\n",
    "\n",
    "%matplotlib inline"
   ]
  },
  {
   "cell_type": "code",
   "execution_count": 2,
   "id": "624aa633",
   "metadata": {},
   "outputs": [],
   "source": [
    "train = pd.read_csv('train.csv')\n",
    "test = pd.read_csv('test.csv')"
   ]
  },
  {
   "cell_type": "code",
   "execution_count": 3,
   "id": "96db2ca4",
   "metadata": {},
   "outputs": [
    {
     "data": {
      "text/html": [
       "<div>\n",
       "<style scoped>\n",
       "    .dataframe tbody tr th:only-of-type {\n",
       "        vertical-align: middle;\n",
       "    }\n",
       "\n",
       "    .dataframe tbody tr th {\n",
       "        vertical-align: top;\n",
       "    }\n",
       "\n",
       "    .dataframe thead th {\n",
       "        text-align: right;\n",
       "    }\n",
       "</style>\n",
       "<table border=\"1\" class=\"dataframe\">\n",
       "  <thead>\n",
       "    <tr style=\"text-align: right;\">\n",
       "      <th></th>\n",
       "      <th>timestamp</th>\n",
       "      <th>value</th>\n",
       "      <th>is_anomaly</th>\n",
       "      <th>predicted</th>\n",
       "    </tr>\n",
       "  </thead>\n",
       "  <tbody>\n",
       "    <tr>\n",
       "      <th>0</th>\n",
       "      <td>1425008573</td>\n",
       "      <td>42</td>\n",
       "      <td>False</td>\n",
       "      <td>44.072500</td>\n",
       "    </tr>\n",
       "    <tr>\n",
       "      <th>1</th>\n",
       "      <td>1425008873</td>\n",
       "      <td>41</td>\n",
       "      <td>False</td>\n",
       "      <td>50.709390</td>\n",
       "    </tr>\n",
       "    <tr>\n",
       "      <th>2</th>\n",
       "      <td>1425009173</td>\n",
       "      <td>41</td>\n",
       "      <td>False</td>\n",
       "      <td>81.405120</td>\n",
       "    </tr>\n",
       "    <tr>\n",
       "      <th>3</th>\n",
       "      <td>1425009473</td>\n",
       "      <td>61</td>\n",
       "      <td>False</td>\n",
       "      <td>39.950367</td>\n",
       "    </tr>\n",
       "    <tr>\n",
       "      <th>4</th>\n",
       "      <td>1425009773</td>\n",
       "      <td>44</td>\n",
       "      <td>False</td>\n",
       "      <td>35.350160</td>\n",
       "    </tr>\n",
       "  </tbody>\n",
       "</table>\n",
       "</div>"
      ],
      "text/plain": [
       "    timestamp  value  is_anomaly  predicted\n",
       "0  1425008573     42       False  44.072500\n",
       "1  1425008873     41       False  50.709390\n",
       "2  1425009173     41       False  81.405120\n",
       "3  1425009473     61       False  39.950367\n",
       "4  1425009773     44       False  35.350160"
      ]
     },
     "execution_count": 3,
     "metadata": {},
     "output_type": "execute_result"
    }
   ],
   "source": [
    "train.head()"
   ]
  },
  {
   "cell_type": "code",
   "execution_count": 4,
   "id": "af8aec47",
   "metadata": {},
   "outputs": [
    {
     "data": {
      "text/html": [
       "<div>\n",
       "<style scoped>\n",
       "    .dataframe tbody tr th:only-of-type {\n",
       "        vertical-align: middle;\n",
       "    }\n",
       "\n",
       "    .dataframe tbody tr th {\n",
       "        vertical-align: top;\n",
       "    }\n",
       "\n",
       "    .dataframe thead th {\n",
       "        text-align: right;\n",
       "    }\n",
       "</style>\n",
       "<table border=\"1\" class=\"dataframe\">\n",
       "  <thead>\n",
       "    <tr style=\"text-align: right;\">\n",
       "      <th></th>\n",
       "      <th>timestamp</th>\n",
       "      <th>value</th>\n",
       "      <th>is_anomaly</th>\n",
       "      <th>predicted</th>\n",
       "      <th>date</th>\n",
       "    </tr>\n",
       "  </thead>\n",
       "  <tbody>\n",
       "    <tr>\n",
       "      <th>0</th>\n",
       "      <td>1425008573</td>\n",
       "      <td>42</td>\n",
       "      <td>False</td>\n",
       "      <td>44.072500</td>\n",
       "      <td>2015-02-27 03:42:53</td>\n",
       "    </tr>\n",
       "    <tr>\n",
       "      <th>1</th>\n",
       "      <td>1425008873</td>\n",
       "      <td>41</td>\n",
       "      <td>False</td>\n",
       "      <td>50.709390</td>\n",
       "      <td>2015-02-27 03:47:53</td>\n",
       "    </tr>\n",
       "    <tr>\n",
       "      <th>2</th>\n",
       "      <td>1425009173</td>\n",
       "      <td>41</td>\n",
       "      <td>False</td>\n",
       "      <td>81.405120</td>\n",
       "      <td>2015-02-27 03:52:53</td>\n",
       "    </tr>\n",
       "    <tr>\n",
       "      <th>3</th>\n",
       "      <td>1425009473</td>\n",
       "      <td>61</td>\n",
       "      <td>False</td>\n",
       "      <td>39.950367</td>\n",
       "      <td>2015-02-27 03:57:53</td>\n",
       "    </tr>\n",
       "    <tr>\n",
       "      <th>4</th>\n",
       "      <td>1425009773</td>\n",
       "      <td>44</td>\n",
       "      <td>False</td>\n",
       "      <td>35.350160</td>\n",
       "      <td>2015-02-27 04:02:53</td>\n",
       "    </tr>\n",
       "    <tr>\n",
       "      <th>5</th>\n",
       "      <td>1425010073</td>\n",
       "      <td>27</td>\n",
       "      <td>False</td>\n",
       "      <td>27.713638</td>\n",
       "      <td>2015-02-27 04:07:53</td>\n",
       "    </tr>\n",
       "    <tr>\n",
       "      <th>6</th>\n",
       "      <td>1425010373</td>\n",
       "      <td>37</td>\n",
       "      <td>False</td>\n",
       "      <td>41.545710</td>\n",
       "      <td>2015-02-27 04:12:53</td>\n",
       "    </tr>\n",
       "    <tr>\n",
       "      <th>7</th>\n",
       "      <td>1425010673</td>\n",
       "      <td>36</td>\n",
       "      <td>False</td>\n",
       "      <td>38.743620</td>\n",
       "      <td>2015-02-27 04:17:53</td>\n",
       "    </tr>\n",
       "    <tr>\n",
       "      <th>8</th>\n",
       "      <td>1425010973</td>\n",
       "      <td>49</td>\n",
       "      <td>False</td>\n",
       "      <td>40.859787</td>\n",
       "      <td>2015-02-27 04:22:53</td>\n",
       "    </tr>\n",
       "    <tr>\n",
       "      <th>9</th>\n",
       "      <td>1425011273</td>\n",
       "      <td>36</td>\n",
       "      <td>False</td>\n",
       "      <td>25.444733</td>\n",
       "      <td>2015-02-27 04:27:53</td>\n",
       "    </tr>\n",
       "  </tbody>\n",
       "</table>\n",
       "</div>"
      ],
      "text/plain": [
       "    timestamp  value  is_anomaly  predicted                date\n",
       "0  1425008573     42       False  44.072500 2015-02-27 03:42:53\n",
       "1  1425008873     41       False  50.709390 2015-02-27 03:47:53\n",
       "2  1425009173     41       False  81.405120 2015-02-27 03:52:53\n",
       "3  1425009473     61       False  39.950367 2015-02-27 03:57:53\n",
       "4  1425009773     44       False  35.350160 2015-02-27 04:02:53\n",
       "5  1425010073     27       False  27.713638 2015-02-27 04:07:53\n",
       "6  1425010373     37       False  41.545710 2015-02-27 04:12:53\n",
       "7  1425010673     36       False  38.743620 2015-02-27 04:17:53\n",
       "8  1425010973     49       False  40.859787 2015-02-27 04:22:53\n",
       "9  1425011273     36       False  25.444733 2015-02-27 04:27:53"
      ]
     },
     "execution_count": 4,
     "metadata": {},
     "output_type": "execute_result"
    }
   ],
   "source": [
    "train['date'] = pd.to_datetime(train['timestamp'],unit='s')\n",
    "train.head(10)"
   ]
  },
  {
   "cell_type": "code",
   "execution_count": 5,
   "id": "9fa545c6",
   "metadata": {},
   "outputs": [
    {
     "name": "stdout",
     "output_type": "stream",
     "text": [
      "<class 'pandas.core.frame.DataFrame'>\n",
      "RangeIndex: 15830 entries, 0 to 15829\n",
      "Data columns (total 5 columns):\n",
      " #   Column      Non-Null Count  Dtype         \n",
      "---  ------      --------------  -----         \n",
      " 0   timestamp   15830 non-null  int64         \n",
      " 1   value       15830 non-null  int64         \n",
      " 2   is_anomaly  15830 non-null  bool          \n",
      " 3   predicted   15830 non-null  float64       \n",
      " 4   date        15830 non-null  datetime64[ns]\n",
      "dtypes: bool(1), datetime64[ns](1), float64(1), int64(2)\n",
      "memory usage: 510.3 KB\n"
     ]
    }
   ],
   "source": [
    "train.info()"
   ]
  },
  {
   "cell_type": "code",
   "execution_count": 6,
   "id": "cf64280e",
   "metadata": {},
   "outputs": [
    {
     "data": {
      "text/plain": [
       "<AxesSubplot:xlabel='date', ylabel='value'>"
      ]
     },
     "execution_count": 6,
     "metadata": {},
     "output_type": "execute_result"
    },
    {
     "data": {
      "image/png": "[encoded data removed]",
      "text/plain": [
       "<Figure size 640x480 with 1 Axes>"
      ]
     },
     "metadata": {},
     "output_type": "display_data"
    }
   ],
   "source": [
    "sns.lineplot(data=train, x='date', y='value')"
   ]
  },
  {
   "cell_type": "code",
   "execution_count": 7,
   "id": "65429137",
   "metadata": {},
   "outputs": [
    {
     "data": {
      "text/plain": [
       "<AxesSubplot:xlabel='date', ylabel='predicted'>"
      ]
     },
     "execution_count": 7,
     "metadata": {},
     "output_type": "execute_result"
    },
    {
     "data": {
      "image/png": "[encoded data removed]",
      "text/plain": [
       "<Figure size 640x480 with 1 Axes>"
      ]
     },
     "metadata": {},
     "output_type": "display_data"
    }
   ],
   "source": [
    "sns.lineplot(data=train, x='date', y='predicted')"
   ]
  },
  {
   "cell_type": "code",
   "execution_count": 9,
   "id": "a7b0cfc1",
   "metadata": {},
   "outputs": [],
   "source": [
    "def padding(arr, window, type_pad):\n",
    "    pad_seq = None\n",
    "    diff = window-len(arr)\n",
    "    pad_seq = [0]*diff\n",
    "    if type_pad == 'pre':\n",
    "        pad_seq.extend(arr)\n",
    "    else:\n",
    "        arr.extend(pad_seq)\n",
    "    return (pad_seq)"
   ]
  },
  {
   "cell_type": "code",
   "execution_count": 10,
   "id": "608c1d35",
   "metadata": {},
   "outputs": [],
   "source": [
    "window = 4\n",
    "arr_train = []\n",
    "label = []\n",
    "for index, row in train.iterrows(): \n",
    "    if row['is_anomaly']:\n",
    "        label.append(1)\n",
    "    else:\n",
    "        label.append(0) \n",
    "        \n",
    "    if window<index:\n",
    "        seq = list(train.value[index-window:index])\n",
    "        arr_train.append(seq)\n",
    "    else:\n",
    "        seq = (train.value[0:index])\n",
    "        seq = padding(seq, window, \"pre\")\n",
    "        arr_train.append(seq)"
   ]
  },
  {
   "cell_type": "code",
   "execution_count": 11,
   "id": "9341cf9e",
   "metadata": {},
   "outputs": [],
   "source": [
    "arr_train = np.array(arr_train)"
   ]
  },
  {
   "cell_type": "code",
   "execution_count": 12,
   "id": "8f912a00",
   "metadata": {},
   "outputs": [
    {
     "data": {
      "text/plain": [
       "((15830, 4), 15830, (4,))"
      ]
     },
     "execution_count": 12,
     "metadata": {},
     "output_type": "execute_result"
    }
   ],
   "source": [
    "arr_train.shape, len(label), arr_train[0].shape"
   ]
  },
  {
   "cell_type": "code",
   "execution_count": 13,
   "id": "fca7d31c",
   "metadata": {},
   "outputs": [
    {
     "data": {
      "text/plain": [
       "(4,)"
      ]
     },
     "execution_count": 13,
     "metadata": {},
     "output_type": "execute_result"
    }
   ],
   "source": [
    "arr_train[0].shape"
   ]
  },
  {
   "cell_type": "code",
   "execution_count": 17,
   "id": "a5dc2c29",
   "metadata": {},
   "outputs": [],
   "source": [
    "arr_train = arr_train.reshape(15830, 1, 4)"
   ]
  },
  {
   "cell_type": "code",
   "execution_count": 19,
   "id": "2411388a",
   "metadata": {},
   "outputs": [],
   "source": [
    "import tensorflow as tf\n",
    "from tensorflow import keras\n",
    "from tensorflow.keras import layers"
   ]
  },
  {
   "cell_type": "code",
   "execution_count": 22,
   "id": "f9515677",
   "metadata": {},
   "outputs": [
    {
     "name": "stdout",
     "output_type": "stream",
     "text": [
      "Metal device set to: Apple M1\n"
     ]
    },
    {
     "name": "stderr",
     "output_type": "stream",
     "text": [
      "2022-11-02 16:06:23.115498: I tensorflow/core/common_runtime/pluggable_device/pluggable_device_factory.cc:306] Could not identify NUMA node of platform GPU ID 0, defaulting to 0. Your kernel may not have been built with NUMA support.\n",
      "2022-11-02 16:06:23.115877: I tensorflow/core/common_runtime/pluggable_device/pluggable_device_factory.cc:272] Created TensorFlow device (/job:localhost/replica:0/task:0/device:GPU:0 with 0 MB memory) -> physical PluggableDevice (device: 0, name: METAL, pci bus id: <undefined>)\n"
     ]
    }
   ],
   "source": [
    "model = keras.Sequential()"
   ]
  },
  {
   "cell_type": "code",
   "execution_count": 23,
   "id": "e4fb4916",
   "metadata": {},
   "outputs": [
    {
     "name": "stdout",
     "output_type": "stream",
     "text": [
      "Model: \"sequential_1\"\n",
      "_________________________________________________________________\n",
      " Layer (type)                Output Shape              Param #   \n",
      "=================================================================\n",
      " lstm (LSTM)                 (None, 1, 64)             17664     \n",
      "                                                                 \n",
      " dense (Dense)               (None, 1, 1)              65        \n",
      "                                                                 \n",
      "=================================================================\n",
      "Total params: 17,729\n",
      "Trainable params: 17,729\n",
      "Non-trainable params: 0\n",
      "_________________________________________________________________\n",
      "None\n"
     ]
    }
   ],
   "source": [
    "model = keras.Sequential()\n",
    "model.add(layers.LSTM(64, input_shape=arr_train.shape[1:], return_sequences=True))\n",
    "#model.add(layers.BatchNormalization())\n",
    "model.add(layers.Dense(1, activation=\"sigmoid\"))\n",
    "print(model.summary())"
   ]
  },
  {
   "cell_type": "code",
   "execution_count": 24,
   "id": "737bd166",
   "metadata": {},
   "outputs": [],
   "source": [
    "label = np.asarray(label).astype('float32').reshape((-1,1))"
   ]
  },
  {
   "cell_type": "code",
   "execution_count": 25,
   "id": "e1b0efdd",
   "metadata": {},
   "outputs": [],
   "source": [
    "model.compile(\n",
    "    loss=keras.losses.binary_crossentropy,\n",
    "    optimizer=\"sgd\",\n",
    "    metrics=[\"accuracy\"],\n",
    ")"
   ]
  },
  {
   "cell_type": "code",
   "execution_count": 27,
   "id": "492107a2",
   "metadata": {},
   "outputs": [
    {
     "name": "stdout",
     "output_type": "stream",
     "text": [
      "Epoch 1/10\n"
     ]
    },
    {
     "name": "stderr",
     "output_type": "stream",
     "text": [
      "2022-11-02 16:06:37.256619: W tensorflow/core/platform/profile_utils/cpu_utils.cc:128] Failed to get CPU frequency: 0 Hz\n",
      "2022-11-02 16:06:37.983885: I tensorflow/core/grappler/optimizers/custom_graph_optimizer_registry.cc:114] Plugin optimizer for device_type GPU is enabled.\n",
      "2022-11-02 16:06:38.124511: I tensorflow/core/grappler/optimizers/custom_graph_optimizer_registry.cc:114] Plugin optimizer for device_type GPU is enabled.\n"
     ]
    },
    {
     "name": "stdout",
     "output_type": "stream",
     "text": [
      "  5/495 [..............................] - ETA: 6s - loss: 0.4093 - accuracy: 0.9375  "
     ]
    },
    {
     "name": "stderr",
     "output_type": "stream",
     "text": [
      "2022-11-02 16:06:38.311810: I tensorflow/core/grappler/optimizers/custom_graph_optimizer_registry.cc:114] Plugin optimizer for device_type GPU is enabled.\n"
     ]
    },
    {
     "name": "stdout",
     "output_type": "stream",
     "text": [
      "495/495 [==============================] - ETA: 0s - loss: 0.1975 - accuracy: 0.9509"
     ]
    },
    {
     "name": "stderr",
     "output_type": "stream",
     "text": [
      "2022-11-02 16:06:44.227560: I tensorflow/core/grappler/optimizers/custom_graph_optimizer_registry.cc:114] Plugin optimizer for device_type GPU is enabled.\n",
      "2022-11-02 16:06:44.292075: I tensorflow/core/grappler/optimizers/custom_graph_optimizer_registry.cc:114] Plugin optimizer for device_type GPU is enabled.\n"
     ]
    },
    {
     "name": "stdout",
     "output_type": "stream",
     "text": [
      "495/495 [==============================] - 10s 18ms/step - loss: 0.1975 - accuracy: 0.9509 - val_loss: 0.1895 - val_accuracy: 0.9510\n",
      "Epoch 2/10\n",
      "495/495 [==============================] - 8s 16ms/step - loss: 0.1895 - accuracy: 0.9510 - val_loss: 0.1889 - val_accuracy: 0.9510\n",
      "Epoch 3/10\n",
      "495/495 [==============================] - 8s 17ms/step - loss: 0.1887 - accuracy: 0.9511 - val_loss: 0.1883 - val_accuracy: 0.9512\n",
      "Epoch 4/10\n",
      "495/495 [==============================] - 8s 17ms/step - loss: 0.1883 - accuracy: 0.9511 - val_loss: 0.1873 - val_accuracy: 0.9510\n",
      "Epoch 5/10\n",
      "495/495 [==============================] - 8s 17ms/step - loss: 0.1876 - accuracy: 0.9509 - val_loss: 0.1871 - val_accuracy: 0.9510\n",
      "Epoch 6/10\n",
      "495/495 [==============================] - 8s 16ms/step - loss: 0.1879 - accuracy: 0.9510 - val_loss: 0.1871 - val_accuracy: 0.9510\n",
      "Epoch 7/10\n",
      "495/495 [==============================] - 8s 16ms/step - loss: 0.1874 - accuracy: 0.9510 - val_loss: 0.1869 - val_accuracy: 0.9510\n",
      "Epoch 8/10\n",
      "495/495 [==============================] - 8s 17ms/step - loss: 0.1872 - accuracy: 0.9510 - val_loss: 0.1864 - val_accuracy: 0.9510\n",
      "Epoch 9/10\n",
      "495/495 [==============================] - 8s 17ms/step - loss: 0.1862 - accuracy: 0.9511 - val_loss: 0.1859 - val_accuracy: 0.9510\n",
      "Epoch 10/10\n",
      "495/495 [==============================] - 8s 16ms/step - loss: 0.1870 - accuracy: 0.9510 - val_loss: 0.1866 - val_accuracy: 0.9510\n"
     ]
    }
   ],
   "source": [
    "history = model.fit(arr_train, label, epochs=10, validation_data=(arr_train, label))"
   ]
  },
  {
   "cell_type": "code",
   "execution_count": 28,
   "id": "20227b74",
   "metadata": {},
   "outputs": [],
   "source": [
    "train_loss = history.history['loss']\n",
    "val_loss = history.history['val_loss']\n",
    "train_acc = history.history['accuracy']\n",
    "val_acc = history.history['val_accuracy']"
   ]
  },
  {
   "cell_type": "code",
   "execution_count": 29,
   "id": "db3a9abd",
   "metadata": {},
   "outputs": [
    {
     "data": {
      "image/png": "[encoded data removed]",
      "text/plain": [
       "<Figure size 640x480 with 1 Axes>"
      ]
     },
     "metadata": {},
     "output_type": "display_data"
    }
   ],
   "source": [
    "import matplotlib.pyplot as plt\n",
    "#visualizing the change in the validation loss\n",
    "plt.plot(val_loss) \n",
    "plt.title(\"Test Loss\",size=18)\n",
    "plt.xlabel(\"Number of iterations\") \n",
    "plt.ylabel(\"Test Loss\") \n",
    "plt.show() "
   ]
  },
  {
   "cell_type": "code",
   "execution_count": 30,
   "id": "e26b5dd3",
   "metadata": {},
   "outputs": [
    {
     "data": {
      "image/png": "[encoded data removed]",
      "text/plain": [
       "<Figure size 640x480 with 1 Axes>"
      ]
     },
     "metadata": {},
     "output_type": "display_data"
    }
   ],
   "source": [
    "import matplotlib.pyplot as plt\n",
    "#visualizing the change in the validation loss\n",
    "plt.plot(val_acc) \n",
    "plt.title(\"Test Accuracy\",size=18)\n",
    "plt.xlabel(\"Number of iterations\") \n",
    "plt.ylabel(\"Test Accuracy\") \n",
    "plt.show() "
   ]
  },
  {
   "cell_type": "code",
   "execution_count": 31,
   "id": "0f9debc8",
   "metadata": {},
   "outputs": [
    {
     "data": {
      "text/html": [
       "<div>\n",
       "<style scoped>\n",
       "    .dataframe tbody tr th:only-of-type {\n",
       "        vertical-align: middle;\n",
       "    }\n",
       "\n",
       "    .dataframe tbody tr th {\n",
       "        vertical-align: top;\n",
       "    }\n",
       "\n",
       "    .dataframe thead th {\n",
       "        text-align: right;\n",
       "    }\n",
       "</style>\n",
       "<table border=\"1\" class=\"dataframe\">\n",
       "  <thead>\n",
       "    <tr style=\"text-align: right;\">\n",
       "      <th></th>\n",
       "      <th>timestamp</th>\n",
       "      <th>value</th>\n",
       "      <th>predicted</th>\n",
       "    </tr>\n",
       "  </thead>\n",
       "  <tbody>\n",
       "    <tr>\n",
       "      <th>0</th>\n",
       "      <td>1396332000</td>\n",
       "      <td>20.0</td>\n",
       "      <td>20.0</td>\n",
       "    </tr>\n",
       "    <tr>\n",
       "      <th>1</th>\n",
       "      <td>1396332300</td>\n",
       "      <td>20.0</td>\n",
       "      <td>20.0</td>\n",
       "    </tr>\n",
       "    <tr>\n",
       "      <th>2</th>\n",
       "      <td>1396332600</td>\n",
       "      <td>20.0</td>\n",
       "      <td>20.0</td>\n",
       "    </tr>\n",
       "    <tr>\n",
       "      <th>3</th>\n",
       "      <td>1396332900</td>\n",
       "      <td>20.0</td>\n",
       "      <td>20.0</td>\n",
       "    </tr>\n",
       "    <tr>\n",
       "      <th>4</th>\n",
       "      <td>1396333200</td>\n",
       "      <td>20.0</td>\n",
       "      <td>20.0</td>\n",
       "    </tr>\n",
       "  </tbody>\n",
       "</table>\n",
       "</div>"
      ],
      "text/plain": [
       "    timestamp  value  predicted\n",
       "0  1396332000   20.0       20.0\n",
       "1  1396332300   20.0       20.0\n",
       "2  1396332600   20.0       20.0\n",
       "3  1396332900   20.0       20.0\n",
       "4  1396333200   20.0       20.0"
      ]
     },
     "execution_count": 31,
     "metadata": {},
     "output_type": "execute_result"
    }
   ],
   "source": [
    "test.head()"
   ]
  },
  {
   "cell_type": "code",
   "execution_count": 32,
   "id": "85c708ce",
   "metadata": {},
   "outputs": [
    {
     "data": {
      "text/html": [
       "<div>\n",
       "<style scoped>\n",
       "    .dataframe tbody tr th:only-of-type {\n",
       "        vertical-align: middle;\n",
       "    }\n",
       "\n",
       "    .dataframe tbody tr th {\n",
       "        vertical-align: top;\n",
       "    }\n",
       "\n",
       "    .dataframe thead th {\n",
       "        text-align: right;\n",
       "    }\n",
       "</style>\n",
       "<table border=\"1\" class=\"dataframe\">\n",
       "  <thead>\n",
       "    <tr style=\"text-align: right;\">\n",
       "      <th></th>\n",
       "      <th>timestamp</th>\n",
       "      <th>value</th>\n",
       "      <th>predicted</th>\n",
       "      <th>date</th>\n",
       "    </tr>\n",
       "  </thead>\n",
       "  <tbody>\n",
       "    <tr>\n",
       "      <th>0</th>\n",
       "      <td>1396332000</td>\n",
       "      <td>20.0</td>\n",
       "      <td>20.0</td>\n",
       "      <td>2014-04-01 06:00:00</td>\n",
       "    </tr>\n",
       "    <tr>\n",
       "      <th>1</th>\n",
       "      <td>1396332300</td>\n",
       "      <td>20.0</td>\n",
       "      <td>20.0</td>\n",
       "      <td>2014-04-01 06:05:00</td>\n",
       "    </tr>\n",
       "    <tr>\n",
       "      <th>2</th>\n",
       "      <td>1396332600</td>\n",
       "      <td>20.0</td>\n",
       "      <td>20.0</td>\n",
       "      <td>2014-04-01 06:10:00</td>\n",
       "    </tr>\n",
       "    <tr>\n",
       "      <th>3</th>\n",
       "      <td>1396332900</td>\n",
       "      <td>20.0</td>\n",
       "      <td>20.0</td>\n",
       "      <td>2014-04-01 06:15:00</td>\n",
       "    </tr>\n",
       "    <tr>\n",
       "      <th>4</th>\n",
       "      <td>1396333200</td>\n",
       "      <td>20.0</td>\n",
       "      <td>20.0</td>\n",
       "      <td>2014-04-01 06:20:00</td>\n",
       "    </tr>\n",
       "    <tr>\n",
       "      <th>5</th>\n",
       "      <td>1396333500</td>\n",
       "      <td>20.0</td>\n",
       "      <td>20.0</td>\n",
       "      <td>2014-04-01 06:25:00</td>\n",
       "    </tr>\n",
       "    <tr>\n",
       "      <th>6</th>\n",
       "      <td>1396333800</td>\n",
       "      <td>20.0</td>\n",
       "      <td>20.0</td>\n",
       "      <td>2014-04-01 06:30:00</td>\n",
       "    </tr>\n",
       "    <tr>\n",
       "      <th>7</th>\n",
       "      <td>1396334100</td>\n",
       "      <td>20.0</td>\n",
       "      <td>20.0</td>\n",
       "      <td>2014-04-01 06:35:00</td>\n",
       "    </tr>\n",
       "    <tr>\n",
       "      <th>8</th>\n",
       "      <td>1396334400</td>\n",
       "      <td>20.0</td>\n",
       "      <td>20.0</td>\n",
       "      <td>2014-04-01 06:40:00</td>\n",
       "    </tr>\n",
       "    <tr>\n",
       "      <th>9</th>\n",
       "      <td>1396334700</td>\n",
       "      <td>20.0</td>\n",
       "      <td>20.0</td>\n",
       "      <td>2014-04-01 06:45:00</td>\n",
       "    </tr>\n",
       "  </tbody>\n",
       "</table>\n",
       "</div>"
      ],
      "text/plain": [
       "    timestamp  value  predicted                date\n",
       "0  1396332000   20.0       20.0 2014-04-01 06:00:00\n",
       "1  1396332300   20.0       20.0 2014-04-01 06:05:00\n",
       "2  1396332600   20.0       20.0 2014-04-01 06:10:00\n",
       "3  1396332900   20.0       20.0 2014-04-01 06:15:00\n",
       "4  1396333200   20.0       20.0 2014-04-01 06:20:00\n",
       "5  1396333500   20.0       20.0 2014-04-01 06:25:00\n",
       "6  1396333800   20.0       20.0 2014-04-01 06:30:00\n",
       "7  1396334100   20.0       20.0 2014-04-01 06:35:00\n",
       "8  1396334400   20.0       20.0 2014-04-01 06:40:00\n",
       "9  1396334700   20.0       20.0 2014-04-01 06:45:00"
      ]
     },
     "execution_count": 32,
     "metadata": {},
     "output_type": "execute_result"
    }
   ],
   "source": [
    "test['date'] = pd.to_datetime(test['timestamp'],unit='s')\n",
    "test.head(10)"
   ]
  },
  {
   "cell_type": "code",
   "execution_count": 33,
   "id": "76adb5d8",
   "metadata": {},
   "outputs": [
    {
     "data": {
      "text/plain": [
       "<AxesSubplot:xlabel='date', ylabel='value'>"
      ]
     },
     "execution_count": 33,
     "metadata": {},
     "output_type": "execute_result"
    },
    {
     "data": {
      "image/png": "[encoded data removed]",
      "text/plain": [
       "<Figure size 640x480 with 1 Axes>"
      ]
     },
     "metadata": {},
     "output_type": "display_data"
    }
   ],
   "source": [
    "sns.lineplot(data=test, x=\"date\", y=\"value\")"
   ]
  },
  {
   "cell_type": "code",
   "execution_count": 34,
   "id": "4d414319",
   "metadata": {},
   "outputs": [],
   "source": [
    "window = 4\n",
    "arr_test = []\n",
    "for index, row in test.iterrows(): \n",
    "    if window<index:\n",
    "        seq = list(test.value[index-window:index])\n",
    "        arr_test.append(seq)\n",
    "    else:\n",
    "        seq = (test.value[0:index])\n",
    "        seq = padding(seq, window, \"pre\")\n",
    "        arr_test.append(seq)"
   ]
  },
  {
   "cell_type": "code",
   "execution_count": 35,
   "id": "02adf33e",
   "metadata": {},
   "outputs": [
    {
     "data": {
      "text/plain": [
       "(3960, 4)"
      ]
     },
     "execution_count": 35,
     "metadata": {},
     "output_type": "execute_result"
    }
   ],
   "source": [
    "arr_test = np.array(arr_test)\n",
    "arr_test.shape"
   ]
  },
  {
   "cell_type": "code",
   "execution_count": 36,
   "id": "d9525e36",
   "metadata": {},
   "outputs": [],
   "source": [
    "arr_test = arr_test.reshape(3960, 1, 4)"
   ]
  },
  {
   "cell_type": "code",
   "execution_count": 37,
   "id": "dcf2d271",
   "metadata": {},
   "outputs": [
    {
     "data": {
      "text/plain": [
       "(3960, 1, 4)"
      ]
     },
     "execution_count": 37,
     "metadata": {},
     "output_type": "execute_result"
    }
   ],
   "source": [
    "arr_test.shape"
   ]
  },
  {
   "cell_type": "code",
   "execution_count": 38,
   "id": "d44dc0e6",
   "metadata": {},
   "outputs": [
    {
     "name": "stdout",
     "output_type": "stream",
     "text": [
      " 23/124 [====>.........................] - ETA: 0s"
     ]
    },
    {
     "name": "stderr",
     "output_type": "stream",
     "text": [
      "2022-11-02 16:08:08.801505: I tensorflow/core/grappler/optimizers/custom_graph_optimizer_registry.cc:114] Plugin optimizer for device_type GPU is enabled.\n",
      "2022-11-02 16:08:08.845047: I tensorflow/core/grappler/optimizers/custom_graph_optimizer_registry.cc:114] Plugin optimizer for device_type GPU is enabled.\n"
     ]
    },
    {
     "name": "stdout",
     "output_type": "stream",
     "text": [
      "124/124 [==============================] - 1s 4ms/step\n"
     ]
    }
   ],
   "source": [
    "prediction = model.predict(arr_test)"
   ]
  },
  {
   "cell_type": "code",
   "execution_count": 39,
   "id": "73c75790",
   "metadata": {},
   "outputs": [
    {
     "data": {
      "text/plain": [
       "(3960, 1, 1)"
      ]
     },
     "execution_count": 39,
     "metadata": {},
     "output_type": "execute_result"
    }
   ],
   "source": [
    "prediction.shape"
   ]
  },
  {
   "cell_type": "code",
   "execution_count": 40,
   "id": "baa666b9",
   "metadata": {},
   "outputs": [
    {
     "data": {
      "text/plain": [
       "array([0.46238902, 0.31149584, 0.22473705, ..., 0.03721218, 0.03721218,\n",
       "       0.03721218], dtype=float32)"
      ]
     },
     "execution_count": 40,
     "metadata": {},
     "output_type": "execute_result"
    }
   ],
   "source": [
    "prediction.flatten()"
   ]
  },
  {
   "cell_type": "code",
   "execution_count": 41,
   "id": "41029e69",
   "metadata": {},
   "outputs": [],
   "source": [
    "prediction = [1 if x>0.5 else 0 for x in prediction]\n",
    "is_anomaly = [True if x==1 else False for x in prediction]"
   ]
  },
  {
   "cell_type": "code",
   "execution_count": 42,
   "id": "a92f4198",
   "metadata": {},
   "outputs": [
    {
     "data": {
      "text/html": [
       "<div>\n",
       "<style scoped>\n",
       "    .dataframe tbody tr th:only-of-type {\n",
       "        vertical-align: middle;\n",
       "    }\n",
       "\n",
       "    .dataframe tbody tr th {\n",
       "        vertical-align: top;\n",
       "    }\n",
       "\n",
       "    .dataframe thead th {\n",
       "        text-align: right;\n",
       "    }\n",
       "</style>\n",
       "<table border=\"1\" class=\"dataframe\">\n",
       "  <thead>\n",
       "    <tr style=\"text-align: right;\">\n",
       "      <th></th>\n",
       "      <th>timestamp</th>\n",
       "      <th>value</th>\n",
       "      <th>predicted</th>\n",
       "      <th>date</th>\n",
       "      <th>is_anomaly</th>\n",
       "    </tr>\n",
       "  </thead>\n",
       "  <tbody>\n",
       "    <tr>\n",
       "      <th>0</th>\n",
       "      <td>1396332000</td>\n",
       "      <td>20.0</td>\n",
       "      <td>20.0</td>\n",
       "      <td>2014-04-01 06:00:00</td>\n",
       "      <td>False</td>\n",
       "    </tr>\n",
       "    <tr>\n",
       "      <th>1</th>\n",
       "      <td>1396332300</td>\n",
       "      <td>20.0</td>\n",
       "      <td>20.0</td>\n",
       "      <td>2014-04-01 06:05:00</td>\n",
       "      <td>False</td>\n",
       "    </tr>\n",
       "    <tr>\n",
       "      <th>2</th>\n",
       "      <td>1396332600</td>\n",
       "      <td>20.0</td>\n",
       "      <td>20.0</td>\n",
       "      <td>2014-04-01 06:10:00</td>\n",
       "      <td>False</td>\n",
       "    </tr>\n",
       "    <tr>\n",
       "      <th>3</th>\n",
       "      <td>1396332900</td>\n",
       "      <td>20.0</td>\n",
       "      <td>20.0</td>\n",
       "      <td>2014-04-01 06:15:00</td>\n",
       "      <td>False</td>\n",
       "    </tr>\n",
       "    <tr>\n",
       "      <th>4</th>\n",
       "      <td>1396333200</td>\n",
       "      <td>20.0</td>\n",
       "      <td>20.0</td>\n",
       "      <td>2014-04-01 06:20:00</td>\n",
       "      <td>False</td>\n",
       "    </tr>\n",
       "  </tbody>\n",
       "</table>\n",
       "</div>"
      ],
      "text/plain": [
       "    timestamp  value  predicted                date  is_anomaly\n",
       "0  1396332000   20.0       20.0 2014-04-01 06:00:00       False\n",
       "1  1396332300   20.0       20.0 2014-04-01 06:05:00       False\n",
       "2  1396332600   20.0       20.0 2014-04-01 06:10:00       False\n",
       "3  1396332900   20.0       20.0 2014-04-01 06:15:00       False\n",
       "4  1396333200   20.0       20.0 2014-04-01 06:20:00       False"
      ]
     },
     "execution_count": 42,
     "metadata": {},
     "output_type": "execute_result"
    }
   ],
   "source": [
    "test['is_anomaly'] = is_anomaly\n",
    "test.head()"
   ]
  },
  {
   "cell_type": "code",
   "execution_count": 43,
   "id": "1a8bb12a",
   "metadata": {},
   "outputs": [],
   "source": [
    "test[['timestamp', 'is_anomaly']].to_csv('/Users/girish/Documents/projects/anomaly-detection/g_submission.csv', index=False)"
   ]
  }
 ],
 "metadata": {
  "kernelspec": {
   "display_name": "tensorflow",
   "language": "python",
   "name": "tensorflow"
  },
  "language_info": {
   "codemirror_mode": {
    "name": "ipython",
    "version": 3
   },
   "file_extension": ".py",
   "mimetype": "text/x-python",
   "name": "python",
   "nbconvert_exporter": "python",
   "pygments_lexer": "ipython3",
   "version": "3.9.13"
  }
 },
 "nbformat": 4,
 "nbformat_minor": 5
}
